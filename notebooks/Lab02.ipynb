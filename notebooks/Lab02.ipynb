{
 "cells": [
  {
   "cell_type": "markdown",
   "metadata": {},
   "source": [
    "# Lab 02 Notes // 03.10.18"
   ]
  },
  {
   "cell_type": "markdown",
   "metadata": {},
   "source": [
    "### Q1\n",
    "\n",
    "Write a program to find the area and the perimeter of a circle.\n",
    "\n",
    "     pi = 3\n",
    "     r, read from user"
   ]
  },
  {
   "cell_type": "markdown",
   "metadata": {},
   "source": [
    "### Q2\n",
    "\n",
    "Write a program to find quotient and remainder.\n",
    "\n",
    "    dividend, read from user\n",
    "    divisor, read from user"
   ]
  },
  {
   "cell_type": "markdown",
   "metadata": {},
   "source": [
    "### Q3\n",
    "\n",
    "Use `sizeof()` and `%lu` to determine the sizes of data types.\n",
    "    "
   ]
  },
  {
   "cell_type": "markdown",
   "metadata": {},
   "source": [
    "### Q4\n",
    "\n",
    "Write a program to find the volume of a sphere.\n",
    "\n",
    "     pi = 3.14\n",
    "     r, read from user\n",
    "     \n",
    "##### hint: volume = (3/4) pi r^3"
   ]
  },
  {
   "cell_type": "markdown",
   "metadata": {},
   "source": [
    "### Q5\n",
    "\n",
    "Write a program to convert temperature degree centigrade to Fahrenheit.\n",
    "\n",
    "     celcius, read from user\n",
    "    \n",
    "##### hint:  f = (1.8 * c) + 32"
   ]
  },
  {
   "cell_type": "markdown",
   "metadata": {},
   "source": [
    "### Q6\n",
    "\n",
    "use `<math.h>` to work with `pow()` and `sqrt()` functions."
   ]
  },
  {
   "cell_type": "markdown",
   "metadata": {},
   "source": [
    "### Q7\n",
    "\n",
    "Write a program to convert height from centimetres to feet.\n",
    "\n",
    "`define constants: \n",
    "INCHES_IN_FOOT= 12\n",
    "CM_IN_INCH=2.54`\n",
    "\n",
    "`heightCM, read from user` \n",
    "\n",
    "##### heightFeet  =  (heightCM / CM_IN_INCH) / INCHES_IN_FOOT;"
   ]
  }
 ],
 "metadata": {
  "kernelspec": {
   "display_name": "Python 2",
   "language": "python",
   "name": "python2"
  },
  "language_info": {
   "codemirror_mode": {
    "name": "ipython",
    "version": 2
   },
   "file_extension": ".py",
   "mimetype": "text/x-python",
   "name": "python",
   "nbconvert_exporter": "python",
   "pygments_lexer": "ipython2",
   "version": "2.7.13"
  }
 },
 "nbformat": 4,
 "nbformat_minor": 2
}
